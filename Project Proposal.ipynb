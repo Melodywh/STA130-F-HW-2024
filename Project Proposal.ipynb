{
 "cells": [
  {
   "cell_type": "markdown",
   "id": "f4b81c47",
   "metadata": {},
   "source": [
    "Topic:\n",
    "\n",
    "- STA130 is a large class that does not take attendance, allowing students the flexibility to either attend in person or watch recorded lectures at their convenience. This research aims to investigate whether there are any differences in learning outcomes between remote and in-person attendance.\n",
    "\n",
    "Research Question:\n",
    "\n",
    "- How does the mode of learning (remote or in-person) affect student engagement levels?\n",
    "\n",
    "Variables:\n",
    "\n",
    "- Independent Variable\n",
    "    - Remote (online learning)\n",
    "    - In-person (classroom learning)\n",
    "- Dependent Variable\n",
    "    - \"Engagement\" is hard to be quantified\n",
    "    - Using scores, such as the Student Engagement Scale or the National Survey of Student Engagement (NSSE), as a quantitative variable\n",
    "        - Behavioral Engagement (e.g., participation in class activities)\n",
    "        - Emotional Engagement (e.g., feelings of interest or boredom)\n",
    "        - Cognitive Engagement (e.g., effort and willingness to engage in academic tasks)\n",
    "\n",
    "Analysis:\n",
    "\n",
    "- T-Test\n",
    "    - Using T-test to determine if there is a significant difference between the means (averages) of two groups\n",
    "    - It will help to assess whether any observed difference between the groups is likely due to chance or if it reflects a true difference in the populations from which the groups were drawn.\n",
    "- Regression Analysis\n",
    "    - To control for confounding variables (e.g., age, gender, major), perform a multiple regression analysis with engagement as the dependent variable and learning mode, demographic factors, and other relevant variables as predictors.\n",
    "\n",
    "Hypothesis:\n",
    "\n",
    "- Students in in-person learning environments will report higher engagement scores compared to students in remote learning environments.\n",
    "\n",
    "Expected Results and Discussion:\n",
    "\n",
    "- Higher Engagement in In-Person Learning\n",
    "    - It is anticipated that in-person students will score higher on engagement, particularly in areas like behavioral and emotional engagement, as these are often enhanced by physical presence and peer interaction.\n",
    "- Variation by Engagement Type\n",
    "    - Cognitive engagement may not differ as significantly between learning modes, as it depends more on individual effort and interest rather than external factors.\n",
    "\n",
    "Limitations:\n",
    "\n",
    "- Sample Bias\n",
    "    - If the sample is not representative of the general student population (e.g., skewed by department or academic level), the results may not generalize.\n",
    "- Self-Report Bias\n",
    "    - Engagement is measured via self-reported data, which may be influenced by students' biases or current mood.\n",
    "- External Factors\n",
    "    - Uncontrollable factors, such as students’ home environments or technical issues with online learning, could impact engagement scores.\n"
   ]
  }
 ],
 "metadata": {
  "kernelspec": {
   "display_name": "Python 3 (ipykernel)",
   "language": "python",
   "name": "python3"
  },
  "language_info": {
   "codemirror_mode": {
    "name": "ipython",
    "version": 3
   },
   "file_extension": ".py",
   "mimetype": "text/x-python",
   "name": "python",
   "nbconvert_exporter": "python",
   "pygments_lexer": "ipython3",
   "version": "3.11.6"
  }
 },
 "nbformat": 4,
 "nbformat_minor": 5
}
