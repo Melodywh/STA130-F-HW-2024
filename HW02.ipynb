{
 "cells": [
  {
   "cell_type": "markdown",
   "id": "1c011aa8",
   "metadata": {},
   "source": [
    "Pre-Lecture Work"
   ]
  },
  {
   "cell_type": "markdown",
   "id": "bc0ff6d6",
   "metadata": {},
   "source": [
    "1. Begin (or restart) part \"3(a)\" of the TUT Demo and interact with a ChatBot to make sure you understand how each part the Monte Hall problem code above works"
   ]
  },
  {
   "cell_type": "code",
   "execution_count": 4,
   "id": "d6e15530",
   "metadata": {},
   "outputs": [
    {
     "data": {
      "text/plain": [
       "0.6661"
      ]
     },
     "execution_count": 4,
     "metadata": {},
     "output_type": "execute_result"
    }
   ],
   "source": [
    "# Monte Hall Simulation Code -- not the only way to code this, but it's what Prof. Schwartz came up with...\n",
    "\n",
    "import numpy as np\n",
    "all_door_options = (1,2,3)  # tuple\n",
    "my_door_choice = 1  # 1,2,3\n",
    "i_won = 0\n",
    "reps = 100000\n",
    "for i in range(reps):\n",
    "    secret_winning_door = np.random.choice(all_door_options)\n",
    "    all_door_options_list = list(all_door_options)\n",
    "    # take the secret_winning_door, so we don't show it as a \"goat\" losing door\n",
    "    all_door_options_list.remove(secret_winning_door)\n",
    "    try:\n",
    "        # if my_door_choice was secret_winning_door then it's already removed\n",
    "        all_door_options_list.remove(my_door_choice)\n",
    "    except:\n",
    "        pass\n",
    "    # show a \"goat\" losing door and remove it\n",
    "    goat_door_reveal = np.random.choice(all_door_options_list)\n",
    "    all_door_options_list.remove(goat_door_reveal)\n",
    "\n",
    "    # put the secret_winning_door back in if it wasn't our choice\n",
    "    # we previously removed it, so it would be shown as a  \"goat\" losing door\n",
    "    if secret_winning_door != my_door_choice:\n",
    "        all_door_options_list.append(secret_winning_door)\n",
    "    # if secret_winning_door was our choice then all that's left in the list is a \"goat\" losing door\n",
    "    # if secret_winning_door wasn't our choice then it's all that will be left in the list\n",
    "\n",
    "    # swap strategy\n",
    "    my_door_choice = all_door_options_list[0]\n",
    "\n",
    "    if my_door_choice == secret_winning_door:\n",
    "        i_won += 1\n",
    "\n",
    "i_won/reps"
   ]
  },
  {
   "cell_type": "markdown",
   "id": "2d6d78c4",
   "metadata": {},
   "source": [
    "- The situation: There are three doors with only one car (prize) and two goats behind them. After the player select one, the host (Monty) will choose to open a door (from the two non-selected one), which will be one of the goats. Then, the player can reselect between the two unopened doors again.\n",
    "\n",
    "- The Question: Should the player choose to swich his choice? Or should he hold on to the original choice? Which choice (swich or hold) gives more possibility of winning the prize?"
   ]
  },
  {
   "cell_type": "markdown",
   "id": "edfaf16b",
   "metadata": {},
   "source": [
    "- Resolution: Yes, the player should swich, in order to get two-time larger chance of winning. \n",
    "\n",
    "- Break down: As the player made his choice, the possibility of car (prize) being behind the selected door is 1/3. That's being said, the possibility of car being behind the two non-selected doors is 2/3. Therefore, after the host opens one of the doors between the non-selected ones, the possibility of the one being left takes all the 2/3 of car being behind away from the open one, which, resulting two-time larger chance of winning if the player chooses to swich choice."
   ]
  },
  {
   "cell_type": "markdown",
   "id": "adc5a1bf",
   "metadata": {},
   "source": [
    "2. Extend your ChatBot sessions to now address part \"3(b)\" of the TUT Demo and interact with your ChatBot to see if it can suggest a simpler, more streamlined way to code up this for loop simulation so the process is more clear and easier to understand; then, describe any preferences you have in terms of readibility or explainability between the original code and the code improvements suggested by the ChatBot"
   ]
  },
  {
   "cell_type": "code",
   "execution_count": 6,
   "id": "d668bb30",
   "metadata": {},
   "outputs": [
    {
     "name": "stdout",
     "output_type": "stream",
     "text": [
      "Win ratio by always switching: 0.66753\n"
     ]
    }
   ],
   "source": [
    "import numpy as np\n",
    "\n",
    "all_door_options = [1, 2, 3]  # List of all doors\n",
    "reps = 100000  # Number of repetitions for the simulation\n",
    "i_won = 0  # Counter for wins\n",
    "\n",
    "for _ in range(reps):\n",
    "    # Randomly assign the winning door\n",
    "    secret_winning_door = np.random.choice(all_door_options)\n",
    "    \n",
    "    # Player randomly chooses a door (always starting with door 1 in this case)\n",
    "    my_door_choice = 1\n",
    "    \n",
    "    # Host reveals a goat door, choosing a door that is neither the winning door nor the player's choice\n",
    "    remaining_doors = [door for door in all_door_options if door != my_door_choice and door != secret_winning_door]\n",
    "    revealed_goat_door = np.random.choice(remaining_doors)\n",
    "    \n",
    "    # Switch to the remaining door (the door not chosen initially and not revealed by the host)\n",
    "    my_door_choice = [door for door in all_door_options if door != my_door_choice and door != revealed_goat_door][0]\n",
    "    \n",
    "    # Check if the player wins by switching\n",
    "    if my_door_choice == secret_winning_door:\n",
    "        i_won += 1\n",
    "\n",
    "# Calculate the win ratio\n",
    "win_ratio = i_won / reps\n",
    "print(f\"Win ratio by always switching: {win_ratio}\")\n"
   ]
  },
  {
   "cell_type": "markdown",
   "id": "bbeee1c0",
   "metadata": {},
   "source": [
    "- Instead of removing and adding doors, this version directly identifies the remaining doors after the host reveals a goat, streamlining the logic for both revealing a goat and switching doors.\n",
    "- No need of \"Try\"/\"Except\" with this version"
   ]
  },
  {
   "cell_type": "markdown",
   "id": "12365363",
   "metadata": {},
   "source": [
    " "
   ]
  },
  {
   "cell_type": "markdown",
   "id": "f98a520a",
   "metadata": {},
   "source": [
    "3. Submit your preferred version of the Monty Hall problem that is verified to be running and working with a final printed output of the code; then, add code comments explaining the purpose of each line of the code"
   ]
  },
  {
   "cell_type": "markdown",
   "id": "bb27131b",
   "metadata": {},
   "source": [
    "    I like the second version better, as it's easier to understand.\n",
    "\n",
    "- In the original version, we need to remove both the secret-winning door and the door the player chooses by two lines. (\"all_door_options_list.remove(secret_winning_door)\" & \"all_door_options_list.remove(my_door_choice)\")\n",
    "\n",
    "- On the other hand, even though the new version contains operators like \"!=\" (not equal to), \"==\" (equal to), and \"+=\" (add and assign), it's straightforward (which is also shown on the length of codes compared to the original version)."
   ]
  },
  {
   "cell_type": "markdown",
   "id": "fc9e28e6",
   "metadata": {},
   "source": [
    "4. Watch the embedded video tutorial on Markov chains in the next Jupyter cell below to understand their application and relevance for ChatBots; then, after watching the video, start a new ChatBot session by prompting that you have code that creates a \"Markovian ChatBot\"; show it the first version of the \"Markovian ChatBot code\" below; and interact with the ChatBot session to make sure you understand how the original first version of the \"Markovian ChatBot code\" works\n",
    "\n",
    "- A Markov Chain models systems where future states depend only on the current state. The transition from one state to another is governed by a set of probabilities, making it a powerful tool for simulating and analyzing dynamic systems."
   ]
  },
  {
   "cell_type": "markdown",
   "id": "ddb94dd6",
   "metadata": {},
   "source": [
    "Post-Lecture Work"
   ]
  },
  {
   "cell_type": "markdown",
   "id": "5863104b",
   "metadata": {},
   "source": [
    "5. Recreate (or resume) the previous ChatBot session from question \"4\" above, and now prompt the ChatBot session that you have a couple extensions of the code to show it, and then show it each of the extentions of the \"Markovian ChatBot code\" below in turn\n"
   ]
  },
  {
   "cell_type": "markdown",
   "id": "cfc1f91c",
   "metadata": {},
   "source": [
    "(a) Without just supplying your ChatBot session with the answers, see if the ChatBot can figure out what the extensions in the code do; namely, making character specific Markov chains, and using bigrams (rather than just the previous word alone) dependency... prompt your ChatBot session with some hints if it's not seeming to \"get it\"\n",
    "\n",
    "(b) Interact with your ChatBot session to have it explain details of the code wherever you need help understanding what the code is doing and how it works\n",
    "\n",
    "(c) Start yet another new ChatBot session and first show the ChatBot the original \"Markovian ChatBot code\" below, and then tell ChatBot that you have an extension but this time just directly provide it the more complicated final extension without ever providing the intermediate extension code to the ChatBot session and see if it's still able to understand everything extension does; namely, making character specific Markov chains, and using bigrams (rather than just the previous word alone) dependency... prompt the ChatBot with some hints if it's not seeming to understand what you're getting at..."
   ]
  },
  {
   "cell_type": "markdown",
   "id": "31e25be7",
   "metadata": {},
   "source": [
    "- Character-Specific Markov Chains: break input texts into characters instead of words\n",
    "    \n",
    "    => output is generated by individual characters instead of words by words\n",
    "    \n",
    "    => track the order (following possibility) in the corpus\n",
    "    \n",
    "    => characters form into words, which form in to sentence"
   ]
  },
  {
   "cell_type": "code",
   "execution_count": 8,
   "id": "6a398a71",
   "metadata": {},
   "outputs": [
    {
     "name": "stdout",
     "output_type": "stream",
     "text": [
      "He worlomelov corlo, charko, tov Marllco tbo, wome\n"
     ]
    }
   ],
   "source": [
    "#example\n",
    "\n",
    "import random\n",
    "from collections import defaultdict\n",
    "\n",
    "class CharacterMarkovChatbot:\n",
    "    def __init__(self):\n",
    "        self.markov_chain = defaultdict(list)\n",
    "\n",
    "    def train(self, text):\n",
    "        # Build a Markov Chain for each character\n",
    "        for i in range(len(text) - 1):\n",
    "            current_char = text[i]\n",
    "            next_char = text[i + 1]\n",
    "            self.markov_chain[current_char].append(next_char)\n",
    "\n",
    "    def generate_text(self, start_char, max_length=100):\n",
    "        char = start_char\n",
    "        output = [char]\n",
    "\n",
    "        for _ in range(max_length - 1):\n",
    "            if char not in self.markov_chain:\n",
    "                break\n",
    "            next_char = random.choice(self.markov_chain[char])\n",
    "            output.append(next_char)\n",
    "            char = next_char\n",
    "\n",
    "        return ''.join(output)\n",
    "\n",
    "# Example of a corpus text\n",
    "corpus = \"Hello, world! Welcome to the Markov Chain chatbot.\"\n",
    "\n",
    "# Train the chatbot on characters\n",
    "chatbot = CharacterMarkovChatbot()\n",
    "chatbot.train(corpus)\n",
    "\n",
    "# Generate character-based text\n",
    "start_char = 'H'\n",
    "generated_text = chatbot.generate_text(start_char, max_length=50)\n",
    "print(generated_text)\n"
   ]
  },
  {
   "cell_type": "markdown",
   "id": "cc478ad1",
   "metadata": {},
   "source": [
    "The above sentence doesn't really make sense, though."
   ]
  },
  {
   "cell_type": "code",
   "execution_count": 10,
   "id": "55d36e39",
   "metadata": {},
   "outputs": [
    {
     "name": "stdout",
     "output_type": "stream",
     "text": [
      "how are you? i am fine, thank you! how are you doing today?\n"
     ]
    }
   ],
   "source": [
    "#Another Version\n",
    "\n",
    "import random\n",
    "from collections import defaultdict\n",
    "\n",
    "class BigramMarkovChatbot:\n",
    "    def __init__(self):\n",
    "        self.markov_chain = defaultdict(list)\n",
    "\n",
    "    def train(self, text):\n",
    "        words = text.split()\n",
    "        for i in range(len(words) - 2):  # Need at least two words for a bigram\n",
    "            bigram = (words[i].lower(), words[i + 1].lower())  # Create a bigram (pair of words)\n",
    "            next_word = words[i + 2].lower()\n",
    "            self.markov_chain[bigram].append(next_word)\n",
    "\n",
    "    def generate_sentence(self, start_bigram, max_length=15):\n",
    "        word1, word2 = start_bigram\n",
    "        sentence = [word1, word2]\n",
    "\n",
    "        for _ in range(max_length - 2):\n",
    "            bigram = (word1, word2)\n",
    "            if bigram not in self.markov_chain:\n",
    "                break\n",
    "            next_word = random.choice(self.markov_chain[bigram])\n",
    "            sentence.append(next_word)\n",
    "            word1, word2 = word2, next_word  # Shift to the next bigram (move one word forward)\n",
    "\n",
    "        return ' '.join(sentence)\n",
    "\n",
    "# Example of corpus text\n",
    "corpus = \"Hello, how are you? I am fine, thank you! How are you doing today?\"\n",
    "\n",
    "# Train the chatbot on bigrams\n",
    "chatbot = BigramMarkovChatbot()\n",
    "chatbot.train(corpus)\n",
    "\n",
    "# Generate a response starting from a bigram\n",
    "start_bigram = ('how', 'are')\n",
    "response = chatbot.generate_sentence(start_bigram)\n",
    "print(response)\n"
   ]
  },
  {
   "cell_type": "markdown",
   "id": "ee7bbaaa",
   "metadata": {},
   "source": [
    "The above version is created based on Bigrams (two-word pairs) as a processing unit, resulting in a less random but also less flexible sentence."
   ]
  },
  {
   "cell_type": "markdown",
   "id": "e16defa7",
   "metadata": {},
   "source": [
    "6. Report on your experience interacting with ChatBots to understand the Monte Hall problem and \"Markovian ChatBot\" code\n"
   ]
  },
  {
   "cell_type": "markdown",
   "id": "fd064b8e",
   "metadata": {},
   "source": [
    "(a) Discuss how quickly the ChatBot was able to be helpful for each of the above questions, and if so, how?\n",
    "\n",
    "- I would say it generate response pretty fast (probably within 20 seconds). \n",
    "- The procedure: \n",
    "    - tokenizing the input (what I enter/ask)\n",
    "    - processing through \"attention mechanism\" to focus on the relative information in the input (which also helps it to remember the dialogue)\n",
    "    - generating the response through prediction by sequence of tokens\n",
    " \n",
    " "
   ]
  },
  {
   "cell_type": "markdown",
   "id": "510352e6",
   "metadata": {},
   "source": [
    "(b) Discuss whether or not interacting with ChatBot to try to figure things out was frustrating or unhelpful, and if so, how?\n",
    "\n",
    "- It could be frustrating, especially when you're already confused on the theme. Afterall, ChatGPT has this \"Hallucination\" (delusion) tendency as its output mostly depends on prediction of next word base on the existed content (might not be fully depends on the last word it generates, but pretty much the same). Therefore, the information it provides has a possibility being incorrect."
   ]
  },
  {
   "cell_type": "markdown",
   "id": "644c87f8",
   "metadata": {},
   "source": [
    "(c) Based on your experiences to date (e.g., including using ChatBots to troubleshoot coding errors in the previous homework), provide an overall assessment evaluating the usefulness of ChatBots as tools to help you understand code\n",
    "\n",
    "- At least from my experience, ChatGPT is helpful in this course for me to understand code. It provides me direct explaination of specific code, so I get the information I want quicker comparing to search and scroll over the  google browser.\n",
    "- It might be helpful (in accuracy) in this course due to its \"knowledge\" in coding. However, it's not all that 100% correct when it comes to calculation in, for example, significant number. I asked ChatGPT a question I have about uncertainty measurement in Physics the other day, and it makes a lot of mistake, making me even more confused."
   ]
  },
  {
   "cell_type": "markdown",
   "id": "05dde513",
   "metadata": {},
   "source": [
    "7. Reflect on your experience interacting with ChatBot and describe how your perception of AI-driven assistance tools in the context of learning coding, statistics, and data science has been evolving (or not) since joining the course"
   ]
  },
  {
   "cell_type": "markdown",
   "id": "c835b1b9",
   "metadata": {},
   "source": [
    "- I have always (somehow) know ChatGPT could be helpful in learning coding, even though I had never done that before. After taking this course, I found it extremely helpful when it comes to explaining Python terms clean and clear. Initially, I saw AI as a supplementary tool, helpful for answering questions and providing quick fixes. However, as I've continued using it, my understanding of its capabilities has evolved. It helped break down complex problems and provided clear guidance as well as troubleshooting."
   ]
  },
  {
   "cell_type": "markdown",
   "id": "bfd3f066",
   "metadata": {},
   "source": [
    "8. ChatBots consume text data available on the web or platforms, and thus represents a new way to \"search consensensus\" that condenses and summarizes mainstream human thought\n"
   ]
  },
  {
   "cell_type": "markdown",
   "id": "2254df12",
   "metadata": {},
   "source": [
    "These skills (learning and adaptability, communication, coding, and statistics and data analysis) are essential not just for work but for daily life in the modern world as they enable us to navigate complex information, make informed decisions, solve everyday problems efficiently, and adapt to the rapidly evolving technological (and even social) landscape. ChatGPT also emphasized that while statistics and coding are crucial for roles such as data scientists or statisticians, they aren't the only skills needed. For instance, communication is essential for translating data insights to non-technical stakeholders, while critical thinking helps apply those insights to real-world challenges. Collaboration is key, as data professionals often work in interdisciplinary teams, and adaptability is crucial to keep up with rapidly evolving technologies. In addition to technical expertise, these soft skills are vital for success in both professional and everyday life."
   ]
  },
  {
   "cell_type": "markdown",
   "id": "a2eefb72",
   "metadata": {},
   "source": [
    "9. Have you reviewed the course wiki-textbook and interacted with a ChatBot (or, if that wasn't sufficient, real people in the course piazza discussion board or TA office hours) to help you understand all the material in the tutorial and lecture that you didn't quite follow when you first saw it?\n",
    "- Yes, mostly"
   ]
  },
  {
   "cell_type": "markdown",
   "id": "05528523",
   "metadata": {},
   "source": [
    "Summary of Chatbot Sections:\n",
    "\n",
    "In this conversation, I explained how ChatGPT generates responses and how fast it operates. ChatGPT uses a Transformer-based architecture, specifically GPT, to process and generate text. The process includes:\n",
    "\n",
    "Pre-training on large datasets to learn language patterns.\n",
    "Fine-tuning with human feedback to improve conversational abilities.\n",
    "Tokenization, where input text is split into tokens for processing.\n",
    "An attention mechanism helps the model focus on relevant parts of the input.\n",
    "It predicts the next tokens to generate a response.\n",
    "The speed of ChatGPT depends on factors like model size, tokenization, computational power, and optimization. It typically generates responses in real-time, within a few seconds, thanks to the efficiency of the Transformer architecture and the hardware supporting it."
   ]
  },
  {
   "cell_type": "markdown",
   "id": "7414b0a9",
   "metadata": {},
   "source": [
    "https://chatgpt.com/share/66ec9d6e-5d94-8012-8cea-fd760336e4b5"
   ]
  }
 ],
 "metadata": {
  "kernelspec": {
   "display_name": "Python 3 (ipykernel)",
   "language": "python",
   "name": "python3"
  },
  "language_info": {
   "codemirror_mode": {
    "name": "ipython",
    "version": 3
   },
   "file_extension": ".py",
   "mimetype": "text/x-python",
   "name": "python",
   "nbconvert_exporter": "python",
   "pygments_lexer": "ipython3",
   "version": "3.11.6"
  }
 },
 "nbformat": 4,
 "nbformat_minor": 5
}
